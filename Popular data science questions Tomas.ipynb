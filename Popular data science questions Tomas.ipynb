{
 "cells": [
  {
   "cell_type": "markdown",
   "metadata": {},
   "source": [
    "# Pupular Data Science Questions"
   ]
  },
  {
   "cell_type": "markdown",
   "metadata": {},
   "source": [
    "For this project, we are working for a company that publishes online content and wants to start writing about about data science. They want to start a new blog or a social media account and they have asked me to help them figure out what topics they should we write about.\n",
    "\n",
    "To answer this question we have decided to look into some data to figure what are the most populat topics in datascience.\n",
    "\n",
    "For this we will analyze the posts in Data Science Stack Exchange's website and find out what are the most popular topics that have been published and read. \n",
    "\n"
   ]
  },
  {
   "cell_type": "markdown",
   "metadata": {},
   "source": [
    "## Exploring Data Science Stack Exchange's database \n",
    "Stack Exchange Data Explorer (SEDE)\n",
    "https://data.stackexchange.com/datascience/query/new \n",
    "\n",
    "We use \"Viewing query\" to explore the data and select the columns that we want  to use for our project.\n",
    "\n",
    "\n",
    "\n",
    "Then we download the data as .csv to use.\n"
   ]
  },
  {
   "cell_type": "code",
   "execution_count": 1,
   "metadata": {
    "collapsed": false
   },
   "outputs": [
    {
     "data": {
      "text/plain": [
       "'\\nSELECT Id, PostTypeId, CreationDate, Score, ViewCount, Tags, AnswerCount, FavoriteCount\\nFROM Posts;\\n\\n'"
      ]
     },
     "execution_count": 1,
     "metadata": {},
     "output_type": "execute_result"
    }
   ],
   "source": [
    "\"\"\"\n",
    "SELECT Id, PostTypeId, CreationDate, Score, ViewCount, Tags,\n",
    "        AnswerCount, FavoriteCount\n",
    "FROM Posts\n",
    "WHERE CreationDate < '2020-01-01' \n",
    "      AND Posts.CreationDate > '2018-12-31';\n",
    "\"\"\""
   ]
  },
  {
   "cell_type": "code",
   "execution_count": 2,
   "metadata": {
    "collapsed": true
   },
   "outputs": [],
   "source": [
    "import pandas as pd\n",
    "import matplotlib.pyplot as plt\n",
    "import seaborn as sns\n",
    "import numpy as np\n",
    "\n",
    "%matplotlib inline"
   ]
  },
  {
   "cell_type": "code",
   "execution_count": 3,
   "metadata": {
    "collapsed": false
   },
   "outputs": [
    {
     "name": "stdout",
     "output_type": "stream",
     "text": [
      "      Id        CreationDate  Score  ViewCount  \\\n",
      "0  44419 2019-01-23 09:21:13      1         21   \n",
      "1  44420 2019-01-23 09:34:01      0         25   \n",
      "2  44423 2019-01-23 09:58:41      2       1651   \n",
      "3  44427 2019-01-23 10:57:09      0         55   \n",
      "4  44428 2019-01-23 11:02:15      0         19   \n",
      "\n",
      "                                                Tags  AnswerCount  \\\n",
      "0                    <machine-learning><data-mining>            0   \n",
      "1  <machine-learning><regression><linear-regressi...            0   \n",
      "2       <python><time-series><forecast><forecasting>            0   \n",
      "3              <machine-learning><scikit-learn><pca>            1   \n",
      "4           <dataset><bigdata><data><speech-to-text>            0   \n",
      "\n",
      "   FavoriteCount  \n",
      "0            NaN  \n",
      "1            NaN  \n",
      "2            NaN  \n",
      "3            NaN  \n",
      "4            NaN  \n"
     ]
    }
   ],
   "source": [
    "\n",
    "\n",
    "questions = pd.read_csv(\"2019_questions.csv\", parse_dates=['CreationDate'])\n",
    "print(questions.head())"
   ]
  },
  {
   "cell_type": "code",
   "execution_count": 4,
   "metadata": {
    "collapsed": false
   },
   "outputs": [
    {
     "name": "stdout",
     "output_type": "stream",
     "text": [
      "<class 'pandas.core.frame.DataFrame'>\n",
      "RangeIndex: 8839 entries, 0 to 8838\n",
      "Data columns (total 7 columns):\n",
      "Id               8839 non-null int64\n",
      "CreationDate     8839 non-null datetime64[ns]\n",
      "Score            8839 non-null int64\n",
      "ViewCount        8839 non-null int64\n",
      "Tags             8839 non-null object\n",
      "AnswerCount      8839 non-null int64\n",
      "FavoriteCount    1407 non-null float64\n",
      "dtypes: datetime64[ns](1), float64(1), int64(4), object(1)\n",
      "memory usage: 483.5+ KB\n"
     ]
    }
   ],
   "source": [
    "questions.info()\n"
   ]
  },
  {
   "cell_type": "markdown",
   "metadata": {},
   "source": [
    "## Cleaning data\n"
   ]
  },
  {
   "cell_type": "code",
   "execution_count": 5,
   "metadata": {
    "collapsed": false
   },
   "outputs": [
    {
     "name": "stdout",
     "output_type": "stream",
     "text": [
      "NaN      7432\n",
      " 1.0      953\n",
      " 2.0      205\n",
      " 0.0      175\n",
      " 3.0       43\n",
      " 4.0       12\n",
      " 5.0        8\n",
      " 6.0        4\n",
      " 7.0        4\n",
      " 11.0       1\n",
      " 8.0        1\n",
      " 16.0       1\n",
      "Name: FavoriteCount, dtype: int64\n",
      "nan values:\n",
      "7432\n"
     ]
    }
   ],
   "source": [
    "# Count each value in FavouriteCount:\n",
    "print(questions['FavoriteCount'].value_counts(dropna=False))\n",
    "\n",
    "#Find null values in FavouriteCount. Not all questions are sobemody's favourite\n",
    "nan = questions['FavoriteCount'].isna().sum()\n",
    "\n",
    "print(\"nan values:\")\n",
    "print(+nan)\n"
   ]
  },
  {
   "cell_type": "markdown",
   "metadata": {},
   "source": [
    "There are many posts that have between 1 and 4 favourite votes, and only a few that have between 5 and 16 votes. \n",
    "Since there are many null values, we could transform them to 0 values, since it is the same in this case. "
   ]
  },
  {
   "cell_type": "code",
   "execution_count": 6,
   "metadata": {
    "collapsed": false
   },
   "outputs": [
    {
     "name": "stdout",
     "output_type": "stream",
     "text": [
      "nan values:\n",
      "0\n",
      "Value counts:\n",
      "0     7607\n",
      "1      953\n",
      "2      205\n",
      "3       43\n",
      "4       12\n",
      "5        8\n",
      "7        4\n",
      "6        4\n",
      "11       1\n",
      "16       1\n",
      "8        1\n",
      "Name: FavoriteCount, dtype: int64\n"
     ]
    }
   ],
   "source": [
    "#Fill missing values in favourite count with 0\n",
    "questions['FavoriteCount'] = questions['FavoriteCount'].fillna(0).astype(int)\n",
    "\n",
    "#Check for missing values and confirm operation\n",
    "print(\"nan values:\")\n",
    "print(questions['FavoriteCount'].isna().sum())\n",
    "\n",
    "print(\"Value counts:\")\n",
    "print(questions['FavoriteCount'].value_counts(dropna=False))"
   ]
  },
  {
   "cell_type": "code",
   "execution_count": 7,
   "metadata": {
    "collapsed": false
   },
   "outputs": [],
   "source": [
    "#Convert creation date to datetime object\n",
    "questions['CreationDate'] = pd.to_datetime(questions['CreationDate'])\n"
   ]
  },
  {
   "cell_type": "code",
   "execution_count": 8,
   "metadata": {
    "collapsed": false
   },
   "outputs": [
    {
     "name": "stdout",
     "output_type": "stream",
     "text": [
      "<class 'pandas.core.frame.DataFrame'>\n",
      "RangeIndex: 8839 entries, 0 to 8838\n",
      "Data columns (total 7 columns):\n",
      "Id               8839 non-null int64\n",
      "CreationDate     8839 non-null datetime64[ns]\n",
      "Score            8839 non-null int64\n",
      "ViewCount        8839 non-null int64\n",
      "Tags             8839 non-null object\n",
      "AnswerCount      8839 non-null int64\n",
      "FavoriteCount    8839 non-null int64\n",
      "dtypes: datetime64[ns](1), int64(5), object(1)\n",
      "memory usage: 483.5+ KB\n"
     ]
    }
   ],
   "source": [
    "#Check data \n",
    "questions.info()\n"
   ]
  },
  {
   "cell_type": "code",
   "execution_count": 9,
   "metadata": {
    "collapsed": false
   },
   "outputs": [
    {
     "name": "stdout",
     "output_type": "stream",
     "text": [
      "0                         machine-learning,data-mining\n",
      "1    machine-learning,regression,linear-regression,...\n",
      "2              python,time-series,forecast,forecasting\n",
      "3                    machine-learning,scikit-learn,pca\n",
      "4                  dataset,bigdata,data,speech-to-text\n",
      "Name: Tags, dtype: object\n"
     ]
    }
   ],
   "source": [
    "#Clean de Tags column \n",
    "questions['Tags'] = questions['Tags'].str.replace('><', \",\").str.replace('<', '').str.replace('>', '')\n",
    "print(questions['Tags'].head(5))\n"
   ]
  },
  {
   "cell_type": "code",
   "execution_count": 10,
   "metadata": {
    "collapsed": false
   },
   "outputs": [
    {
     "name": "stdout",
     "output_type": "stream",
     "text": [
      "0                      [machine-learning, data-mining]\n",
      "1    [machine-learning, regression, linear-regressi...\n",
      "2         [python, time-series, forecast, forecasting]\n",
      "3                [machine-learning, scikit-learn, pca]\n",
      "4             [dataset, bigdata, data, speech-to-text]\n",
      "Name: Tags, dtype: object\n"
     ]
    }
   ],
   "source": [
    "# Transform the values in the tag columns to a list of lists\n",
    "questions['Tags'] = questions['Tags'].str.split(',')\n",
    "print(questions['Tags'].head())"
   ]
  },
  {
   "cell_type": "markdown",
   "metadata": {
    "collapsed": true
   },
   "source": [
    "## Most Used and Most Viewed tags\n",
    "\n",
    "Now that we cleaned the data, we need to determine the most popular tags based on two different popularity proxies: \n",
    "- how many times the tag was used\n",
    "- and how many times a question with that tag was viewed."
   ]
  },
  {
   "cell_type": "code",
   "execution_count": 12,
   "metadata": {
    "collapsed": false
   },
   "outputs": [
    {
     "data": {
      "text/html": [
       "<div>\n",
       "<style scoped>\n",
       "    .dataframe tbody tr th:only-of-type {\n",
       "        vertical-align: middle;\n",
       "    }\n",
       "\n",
       "    .dataframe tbody tr th {\n",
       "        vertical-align: top;\n",
       "    }\n",
       "\n",
       "    .dataframe thead th {\n",
       "        text-align: right;\n",
       "    }\n",
       "</style>\n",
       "<table border=\"1\" class=\"dataframe\">\n",
       "  <thead>\n",
       "    <tr style=\"text-align: right;\">\n",
       "      <th></th>\n",
       "      <th>tag_name</th>\n",
       "      <th>tag_count</th>\n",
       "    </tr>\n",
       "  </thead>\n",
       "  <tbody>\n",
       "    <tr>\n",
       "      <th>298</th>\n",
       "      <td>machine-learning</td>\n",
       "      <td>2693</td>\n",
       "    </tr>\n",
       "    <tr>\n",
       "      <th>311</th>\n",
       "      <td>python</td>\n",
       "      <td>1814</td>\n",
       "    </tr>\n",
       "    <tr>\n",
       "      <th>48</th>\n",
       "      <td>deep-learning</td>\n",
       "      <td>1220</td>\n",
       "    </tr>\n",
       "    <tr>\n",
       "      <th>207</th>\n",
       "      <td>neural-network</td>\n",
       "      <td>1055</td>\n",
       "    </tr>\n",
       "    <tr>\n",
       "      <th>263</th>\n",
       "      <td>keras</td>\n",
       "      <td>935</td>\n",
       "    </tr>\n",
       "    <tr>\n",
       "      <th>371</th>\n",
       "      <td>classification</td>\n",
       "      <td>685</td>\n",
       "    </tr>\n",
       "    <tr>\n",
       "      <th>461</th>\n",
       "      <td>tensorflow</td>\n",
       "      <td>584</td>\n",
       "    </tr>\n",
       "    <tr>\n",
       "      <th>286</th>\n",
       "      <td>scikit-learn</td>\n",
       "      <td>540</td>\n",
       "    </tr>\n",
       "    <tr>\n",
       "      <th>157</th>\n",
       "      <td>nlp</td>\n",
       "      <td>493</td>\n",
       "    </tr>\n",
       "    <tr>\n",
       "      <th>77</th>\n",
       "      <td>cnn</td>\n",
       "      <td>489</td>\n",
       "    </tr>\n",
       "  </tbody>\n",
       "</table>\n",
       "</div>"
      ],
      "text/plain": [
       "             tag_name  tag_count\n",
       "298  machine-learning       2693\n",
       "311            python       1814\n",
       "48      deep-learning       1220\n",
       "207    neural-network       1055\n",
       "263             keras        935\n",
       "371    classification        685\n",
       "461        tensorflow        584\n",
       "286      scikit-learn        540\n",
       "157               nlp        493\n",
       "77                cnn        489"
      ]
     },
     "execution_count": 12,
     "metadata": {},
     "output_type": "execute_result"
    }
   ],
   "source": [
    "# Count how many times each tag was used.\n",
    "tag_count = dict()\n",
    "for tag_list in questions['Tags']:\n",
    "    for tag in tag_list:\n",
    "        if tag in tag_count:\n",
    "            tag_count[tag] += 1\n",
    "        else:\n",
    "            tag_count[tag] = 1\n",
    "            \n",
    "# convert the dictionary into a dataframe\n",
    "tag_count_df = pd.DataFrame(list(tag_count.items()), columns = ['tag_name','tag_count'])\n",
    "\n",
    "# get top 10 most popular tags\n",
    "top_10_used = tag_count_df.sort_values(\"tag_count\", ascending=False).head(10)\n",
    "\n",
    "top_10_used"
   ]
  },
  {
   "cell_type": "code",
   "execution_count": 13,
   "metadata": {
    "collapsed": false
   },
   "outputs": [
    {
     "data": {
      "text/html": [
       "<div>\n",
       "<style scoped>\n",
       "    .dataframe tbody tr th:only-of-type {\n",
       "        vertical-align: middle;\n",
       "    }\n",
       "\n",
       "    .dataframe tbody tr th {\n",
       "        vertical-align: top;\n",
       "    }\n",
       "\n",
       "    .dataframe thead th {\n",
       "        text-align: right;\n",
       "    }\n",
       "</style>\n",
       "<table border=\"1\" class=\"dataframe\">\n",
       "  <thead>\n",
       "    <tr style=\"text-align: right;\">\n",
       "      <th></th>\n",
       "      <th>tag_name</th>\n",
       "      <th>view_count</th>\n",
       "    </tr>\n",
       "  </thead>\n",
       "  <tbody>\n",
       "    <tr>\n",
       "      <th>311</th>\n",
       "      <td>python</td>\n",
       "      <td>537585</td>\n",
       "    </tr>\n",
       "    <tr>\n",
       "      <th>298</th>\n",
       "      <td>machine-learning</td>\n",
       "      <td>388499</td>\n",
       "    </tr>\n",
       "    <tr>\n",
       "      <th>263</th>\n",
       "      <td>keras</td>\n",
       "      <td>268608</td>\n",
       "    </tr>\n",
       "    <tr>\n",
       "      <th>48</th>\n",
       "      <td>deep-learning</td>\n",
       "      <td>233628</td>\n",
       "    </tr>\n",
       "    <tr>\n",
       "      <th>510</th>\n",
       "      <td>pandas</td>\n",
       "      <td>201787</td>\n",
       "    </tr>\n",
       "    <tr>\n",
       "      <th>207</th>\n",
       "      <td>neural-network</td>\n",
       "      <td>185367</td>\n",
       "    </tr>\n",
       "    <tr>\n",
       "      <th>286</th>\n",
       "      <td>scikit-learn</td>\n",
       "      <td>128110</td>\n",
       "    </tr>\n",
       "    <tr>\n",
       "      <th>461</th>\n",
       "      <td>tensorflow</td>\n",
       "      <td>121369</td>\n",
       "    </tr>\n",
       "    <tr>\n",
       "      <th>371</th>\n",
       "      <td>classification</td>\n",
       "      <td>104457</td>\n",
       "    </tr>\n",
       "    <tr>\n",
       "      <th>252</th>\n",
       "      <td>dataframe</td>\n",
       "      <td>89352</td>\n",
       "    </tr>\n",
       "  </tbody>\n",
       "</table>\n",
       "</div>"
      ],
      "text/plain": [
       "             tag_name  view_count\n",
       "311            python      537585\n",
       "298  machine-learning      388499\n",
       "263             keras      268608\n",
       "48      deep-learning      233628\n",
       "510            pandas      201787\n",
       "207    neural-network      185367\n",
       "286      scikit-learn      128110\n",
       "461        tensorflow      121369\n",
       "371    classification      104457\n",
       "252         dataframe       89352"
      ]
     },
     "execution_count": 13,
     "metadata": {},
     "output_type": "execute_result"
    }
   ],
   "source": [
    "# Count how many times each tag was viewed\n",
    "\n",
    "tag_views = dict()\n",
    "\n",
    "for index, row in questions.iterrows():\n",
    "    # loop through the list of each row\n",
    "    for tag in row['Tags']:\n",
    "        # check if the tag is in the dictionary and add the values\n",
    "        if tag in tag_views:\n",
    "            tag_views[tag] += row['ViewCount']\n",
    "        else:\n",
    "            tag_views[tag] = row['ViewCount']\n",
    "\n",
    "# convert the dictionary into a dataframe\n",
    "tag_views_df =  pd.DataFrame(list(tag_views.items()), columns = ['tag_name','view_count'])\n",
    "\n",
    "# get top 10 most viewed tags\n",
    "top_10_viewed = tag_views_df.sort_values(\"view_count\", ascending=False).head(10)\n",
    "\n",
    "top_10_viewed"
   ]
  },
  {
   "cell_type": "code",
   "execution_count": 14,
   "metadata": {
    "collapsed": false
   },
   "outputs": [
    {
     "data": {
      "image/png": "[encoded data removed]",
      "text/plain": [
       "<matplotlib.figure.Figure at 0x7f673813e470>"
      ]
     },
     "metadata": {},
     "output_type": "display_data"
    }
   ],
   "source": [
    "# Visualizations for the top tags of each of the above results.\n",
    "\n",
    "# Bar plot for the top 10 most popular tags\n",
    "top_10_used.plot(kind = 'barh', x = 'tag_name', y = 'tag_count', legend = False, title = 'Top 10 Most used Tags')\n",
    "plt.show()"
   ]
  },
  {
   "cell_type": "code",
   "execution_count": 15,
   "metadata": {
    "collapsed": false
   },
   "outputs": [
    {
     "data": {
      "image/png": "[encoded data removed]",
      "text/plain": [
       "<matplotlib.figure.Figure at 0x7f6738a482e8>"
      ]
     },
     "metadata": {},
     "output_type": "display_data"
    }
   ],
   "source": [
    "# Bar plot for the top 10 most viewed tags\n",
    "\n",
    "top_10_viewed.plot(kind = 'barh', x = 'tag_name', y = 'view_count', legend = False, title = 'Top 10 Most viewed Tags')\n",
    "plt.show()"
   ]
  },
  {
   "cell_type": "markdown",
   "metadata": {},
   "source": [
    "## Relations Between Tags\n",
    "\n"
   ]
  },
  {
   "cell_type": "code",
   "execution_count": 17,
   "metadata": {
    "collapsed": true
   },
   "outputs": [],
   "source": [
    "# Create a dataframe with the top 20 most used and most viewed tags\n",
    "most_viewed = tag_views_df.sort_values(\"view_count\", ascending=False).head(20)\n",
    "most_used = tag_count_df.sort_values(\"tag_count\", ascending=False).head(20)\n",
    "\n",
    "# set tag_name as index\n",
    "most_viewed.set_index(\"tag_name\", inplace=True)\n",
    "most_used.set_index(\"tag_name\", inplace=True)"
   ]
  },
  {
   "cell_type": "code",
   "execution_count": 20,
   "metadata": {
    "collapsed": false
   },
   "outputs": [
    {
     "data": {
      "text/html": [
       "<div>\n",
       "<style scoped>\n",
       "    .dataframe tbody tr th:only-of-type {\n",
       "        vertical-align: middle;\n",
       "    }\n",
       "\n",
       "    .dataframe tbody tr th {\n",
       "        vertical-align: top;\n",
       "    }\n",
       "\n",
       "    .dataframe thead th {\n",
       "        text-align: right;\n",
       "    }\n",
       "</style>\n",
       "<table border=\"1\" class=\"dataframe\">\n",
       "  <thead>\n",
       "    <tr style=\"text-align: right;\">\n",
       "      <th></th>\n",
       "      <th>tag_count</th>\n",
       "      <th>view_count</th>\n",
       "    </tr>\n",
       "    <tr>\n",
       "      <th>tag_name</th>\n",
       "      <th></th>\n",
       "      <th></th>\n",
       "    </tr>\n",
       "  </thead>\n",
       "  <tbody>\n",
       "    <tr>\n",
       "      <th>machine-learning</th>\n",
       "      <td>2693</td>\n",
       "      <td>388499.0</td>\n",
       "    </tr>\n",
       "    <tr>\n",
       "      <th>python</th>\n",
       "      <td>1814</td>\n",
       "      <td>537585.0</td>\n",
       "    </tr>\n",
       "    <tr>\n",
       "      <th>deep-learning</th>\n",
       "      <td>1220</td>\n",
       "      <td>233628.0</td>\n",
       "    </tr>\n",
       "    <tr>\n",
       "      <th>neural-network</th>\n",
       "      <td>1055</td>\n",
       "      <td>185367.0</td>\n",
       "    </tr>\n",
       "    <tr>\n",
       "      <th>keras</th>\n",
       "      <td>935</td>\n",
       "      <td>268608.0</td>\n",
       "    </tr>\n",
       "    <tr>\n",
       "      <th>classification</th>\n",
       "      <td>685</td>\n",
       "      <td>104457.0</td>\n",
       "    </tr>\n",
       "    <tr>\n",
       "      <th>tensorflow</th>\n",
       "      <td>584</td>\n",
       "      <td>121369.0</td>\n",
       "    </tr>\n",
       "    <tr>\n",
       "      <th>scikit-learn</th>\n",
       "      <td>540</td>\n",
       "      <td>128110.0</td>\n",
       "    </tr>\n",
       "    <tr>\n",
       "      <th>nlp</th>\n",
       "      <td>493</td>\n",
       "      <td>71382.0</td>\n",
       "    </tr>\n",
       "    <tr>\n",
       "      <th>cnn</th>\n",
       "      <td>489</td>\n",
       "      <td>70349.0</td>\n",
       "    </tr>\n",
       "    <tr>\n",
       "      <th>time-series</th>\n",
       "      <td>466</td>\n",
       "      <td>64134.0</td>\n",
       "    </tr>\n",
       "    <tr>\n",
       "      <th>lstm</th>\n",
       "      <td>402</td>\n",
       "      <td>74458.0</td>\n",
       "    </tr>\n",
       "    <tr>\n",
       "      <th>pandas</th>\n",
       "      <td>354</td>\n",
       "      <td>201787.0</td>\n",
       "    </tr>\n",
       "    <tr>\n",
       "      <th>regression</th>\n",
       "      <td>347</td>\n",
       "      <td>49451.0</td>\n",
       "    </tr>\n",
       "    <tr>\n",
       "      <th>dataset</th>\n",
       "      <td>340</td>\n",
       "      <td>43151.0</td>\n",
       "    </tr>\n",
       "    <tr>\n",
       "      <th>r</th>\n",
       "      <td>268</td>\n",
       "      <td>NaN</td>\n",
       "    </tr>\n",
       "    <tr>\n",
       "      <th>predictive-modeling</th>\n",
       "      <td>265</td>\n",
       "      <td>NaN</td>\n",
       "    </tr>\n",
       "    <tr>\n",
       "      <th>clustering</th>\n",
       "      <td>257</td>\n",
       "      <td>33928.0</td>\n",
       "    </tr>\n",
       "    <tr>\n",
       "      <th>statistics</th>\n",
       "      <td>234</td>\n",
       "      <td>NaN</td>\n",
       "    </tr>\n",
       "    <tr>\n",
       "      <th>machine-learning-model</th>\n",
       "      <td>224</td>\n",
       "      <td>NaN</td>\n",
       "    </tr>\n",
       "  </tbody>\n",
       "</table>\n",
       "</div>"
      ],
      "text/plain": [
       "                        tag_count  view_count\n",
       "tag_name                                     \n",
       "machine-learning             2693    388499.0\n",
       "python                       1814    537585.0\n",
       "deep-learning                1220    233628.0\n",
       "neural-network               1055    185367.0\n",
       "keras                         935    268608.0\n",
       "classification                685    104457.0\n",
       "tensorflow                    584    121369.0\n",
       "scikit-learn                  540    128110.0\n",
       "nlp                           493     71382.0\n",
       "cnn                           489     70349.0\n",
       "time-series                   466     64134.0\n",
       "lstm                          402     74458.0\n",
       "pandas                        354    201787.0\n",
       "regression                    347     49451.0\n",
       "dataset                       340     43151.0\n",
       "r                             268         NaN\n",
       "predictive-modeling           265         NaN\n",
       "clustering                    257     33928.0\n",
       "statistics                    234         NaN\n",
       "machine-learning-model        224         NaN"
      ]
     },
     "execution_count": 20,
     "metadata": {},
     "output_type": "execute_result"
    }
   ],
   "source": [
    "# Find which tags are in most_used, but not in most_viewed\n",
    "in_used = pd.merge(most_used, most_viewed, how=\"left\", left_index=True, right_index=True)\n",
    "in_used"
   ]
  },
  {
   "cell_type": "code",
   "execution_count": 21,
   "metadata": {
    "collapsed": false
   },
   "outputs": [
    {
     "data": {
      "text/html": [
       "<div>\n",
       "<style scoped>\n",
       "    .dataframe tbody tr th:only-of-type {\n",
       "        vertical-align: middle;\n",
       "    }\n",
       "\n",
       "    .dataframe tbody tr th {\n",
       "        vertical-align: top;\n",
       "    }\n",
       "\n",
       "    .dataframe thead th {\n",
       "        text-align: right;\n",
       "    }\n",
       "</style>\n",
       "<table border=\"1\" class=\"dataframe\">\n",
       "  <thead>\n",
       "    <tr style=\"text-align: right;\">\n",
       "      <th></th>\n",
       "      <th>tag_count</th>\n",
       "      <th>view_count</th>\n",
       "    </tr>\n",
       "    <tr>\n",
       "      <th>tag_name</th>\n",
       "      <th></th>\n",
       "      <th></th>\n",
       "    </tr>\n",
       "  </thead>\n",
       "  <tbody>\n",
       "    <tr>\n",
       "      <th>python</th>\n",
       "      <td>1814.0</td>\n",
       "      <td>537585</td>\n",
       "    </tr>\n",
       "    <tr>\n",
       "      <th>machine-learning</th>\n",
       "      <td>2693.0</td>\n",
       "      <td>388499</td>\n",
       "    </tr>\n",
       "    <tr>\n",
       "      <th>keras</th>\n",
       "      <td>935.0</td>\n",
       "      <td>268608</td>\n",
       "    </tr>\n",
       "    <tr>\n",
       "      <th>deep-learning</th>\n",
       "      <td>1220.0</td>\n",
       "      <td>233628</td>\n",
       "    </tr>\n",
       "    <tr>\n",
       "      <th>pandas</th>\n",
       "      <td>354.0</td>\n",
       "      <td>201787</td>\n",
       "    </tr>\n",
       "    <tr>\n",
       "      <th>neural-network</th>\n",
       "      <td>1055.0</td>\n",
       "      <td>185367</td>\n",
       "    </tr>\n",
       "    <tr>\n",
       "      <th>scikit-learn</th>\n",
       "      <td>540.0</td>\n",
       "      <td>128110</td>\n",
       "    </tr>\n",
       "    <tr>\n",
       "      <th>tensorflow</th>\n",
       "      <td>584.0</td>\n",
       "      <td>121369</td>\n",
       "    </tr>\n",
       "    <tr>\n",
       "      <th>classification</th>\n",
       "      <td>685.0</td>\n",
       "      <td>104457</td>\n",
       "    </tr>\n",
       "    <tr>\n",
       "      <th>dataframe</th>\n",
       "      <td>NaN</td>\n",
       "      <td>89352</td>\n",
       "    </tr>\n",
       "    <tr>\n",
       "      <th>lstm</th>\n",
       "      <td>402.0</td>\n",
       "      <td>74458</td>\n",
       "    </tr>\n",
       "    <tr>\n",
       "      <th>nlp</th>\n",
       "      <td>493.0</td>\n",
       "      <td>71382</td>\n",
       "    </tr>\n",
       "    <tr>\n",
       "      <th>cnn</th>\n",
       "      <td>489.0</td>\n",
       "      <td>70349</td>\n",
       "    </tr>\n",
       "    <tr>\n",
       "      <th>time-series</th>\n",
       "      <td>466.0</td>\n",
       "      <td>64134</td>\n",
       "    </tr>\n",
       "    <tr>\n",
       "      <th>numpy</th>\n",
       "      <td>NaN</td>\n",
       "      <td>49767</td>\n",
       "    </tr>\n",
       "    <tr>\n",
       "      <th>regression</th>\n",
       "      <td>347.0</td>\n",
       "      <td>49451</td>\n",
       "    </tr>\n",
       "    <tr>\n",
       "      <th>dataset</th>\n",
       "      <td>340.0</td>\n",
       "      <td>43151</td>\n",
       "    </tr>\n",
       "    <tr>\n",
       "      <th>pytorch</th>\n",
       "      <td>NaN</td>\n",
       "      <td>40240</td>\n",
       "    </tr>\n",
       "    <tr>\n",
       "      <th>csv</th>\n",
       "      <td>NaN</td>\n",
       "      <td>38654</td>\n",
       "    </tr>\n",
       "    <tr>\n",
       "      <th>clustering</th>\n",
       "      <td>257.0</td>\n",
       "      <td>33928</td>\n",
       "    </tr>\n",
       "  </tbody>\n",
       "</table>\n",
       "</div>"
      ],
      "text/plain": [
       "                  tag_count  view_count\n",
       "tag_name                               \n",
       "python               1814.0      537585\n",
       "machine-learning     2693.0      388499\n",
       "keras                 935.0      268608\n",
       "deep-learning        1220.0      233628\n",
       "pandas                354.0      201787\n",
       "neural-network       1055.0      185367\n",
       "scikit-learn          540.0      128110\n",
       "tensorflow            584.0      121369\n",
       "classification        685.0      104457\n",
       "dataframe               NaN       89352\n",
       "lstm                  402.0       74458\n",
       "nlp                   493.0       71382\n",
       "cnn                   489.0       70349\n",
       "time-series           466.0       64134\n",
       "numpy                   NaN       49767\n",
       "regression            347.0       49451\n",
       "dataset               340.0       43151\n",
       "pytorch                 NaN       40240\n",
       "csv                     NaN       38654\n",
       "clustering            257.0       33928"
      ]
     },
     "execution_count": 21,
     "metadata": {},
     "output_type": "execute_result"
    }
   ],
   "source": [
    "# Find which tags are in most_viewed, but not in most_used\n",
    "in_viewed = pd.merge(most_used, most_viewed, how=\"right\", left_index=True, right_index=True)\n",
    "in_viewed"
   ]
  },
  {
   "cell_type": "markdown",
   "metadata": {},
   "source": [
    "The tags present in most_used and not present in most_viewed are:\n",
    "- machine-learning-model\n",
    "- statistics\n",
    "- predictive-modeling\n",
    "- r\n",
    "\n",
    "And the tags present in most_viewed but not in most_used are:\n",
    "- csv\n",
    "- pytorch\n",
    "- dataframe\n",
    "\n",
    "Some tags also stand out as being related. For example, python is related to pandas, as we can find both pythons and pandas in the same country — or better yet, because pandas is a Python library. So by writing about pandas, we can actually simultaneously tackle two tags."
   ]
  },
  {
   "cell_type": "markdown",
   "metadata": {},
   "source": [
    "## Is deep learning just a fad?\n",
    "\n",
    "After taking a look at the most used and viewed tags, we start to wonder what relationship is there between the most popular tags.\n",
    "To answer this question, we will analyze all the questions from the SEDE (not just from 2019) to track the interest in deep learning across time. \n",
    "\n",
    "We will:\n",
    "- Count how many deep learning questions are asked per time period.\n",
    "- The total amount of questions per time period.\n",
    "- How many deep learning questions there are relative to the total amount of   questions per time period."
   ]
  },
  {
   "cell_type": "code",
   "execution_count": null,
   "metadata": {
    "collapsed": true
   },
   "outputs": [],
   "source": [
    "\"\"\"\n",
    "SELECT Id, CreationDate, Tags\n",
    "  FROM posts\n",
    " WHERE PostTypeId = 1;\n",
    " \"\"\""
   ]
  },
  {
   "cell_type": "code",
   "execution_count": 22,
   "metadata": {
    "collapsed": false
   },
   "outputs": [
    {
     "data": {
      "text/html": [
       "<div>\n",
       "<style scoped>\n",
       "    .dataframe tbody tr th:only-of-type {\n",
       "        vertical-align: middle;\n",
       "    }\n",
       "\n",
       "    .dataframe tbody tr th {\n",
       "        vertical-align: top;\n",
       "    }\n",
       "\n",
       "    .dataframe thead th {\n",
       "        text-align: right;\n",
       "    }\n",
       "</style>\n",
       "<table border=\"1\" class=\"dataframe\">\n",
       "  <thead>\n",
       "    <tr style=\"text-align: right;\">\n",
       "      <th></th>\n",
       "      <th>Id</th>\n",
       "      <th>CreationDate</th>\n",
       "      <th>Tags</th>\n",
       "    </tr>\n",
       "  </thead>\n",
       "  <tbody>\n",
       "    <tr>\n",
       "      <th>0</th>\n",
       "      <td>45416</td>\n",
       "      <td>2019-02-12 00:36:29</td>\n",
       "      <td>&lt;python&gt;&lt;keras&gt;&lt;tensorflow&gt;&lt;cnn&gt;&lt;probability&gt;</td>\n",
       "    </tr>\n",
       "    <tr>\n",
       "      <th>1</th>\n",
       "      <td>45418</td>\n",
       "      <td>2019-02-12 00:50:39</td>\n",
       "      <td>&lt;neural-network&gt;</td>\n",
       "    </tr>\n",
       "    <tr>\n",
       "      <th>2</th>\n",
       "      <td>45422</td>\n",
       "      <td>2019-02-12 04:40:51</td>\n",
       "      <td>&lt;python&gt;&lt;ibm-watson&gt;&lt;chatbot&gt;</td>\n",
       "    </tr>\n",
       "    <tr>\n",
       "      <th>3</th>\n",
       "      <td>45426</td>\n",
       "      <td>2019-02-12 04:51:49</td>\n",
       "      <td>&lt;keras&gt;</td>\n",
       "    </tr>\n",
       "    <tr>\n",
       "      <th>4</th>\n",
       "      <td>45427</td>\n",
       "      <td>2019-02-12 05:08:24</td>\n",
       "      <td>&lt;r&gt;&lt;predictive-modeling&gt;&lt;machine-learning-mode...</td>\n",
       "    </tr>\n",
       "  </tbody>\n",
       "</table>\n",
       "</div>"
      ],
      "text/plain": [
       "      Id        CreationDate  \\\n",
       "0  45416 2019-02-12 00:36:29   \n",
       "1  45418 2019-02-12 00:50:39   \n",
       "2  45422 2019-02-12 04:40:51   \n",
       "3  45426 2019-02-12 04:51:49   \n",
       "4  45427 2019-02-12 05:08:24   \n",
       "\n",
       "                                                Tags  \n",
       "0      <python><keras><tensorflow><cnn><probability>  \n",
       "1                                   <neural-network>  \n",
       "2                      <python><ibm-watson><chatbot>  \n",
       "3                                            <keras>  \n",
       "4  <r><predictive-modeling><machine-learning-mode...  "
      ]
     },
     "execution_count": 22,
     "metadata": {},
     "output_type": "execute_result"
    }
   ],
   "source": [
    "# Read the file all_questions.csv into a dataframe.\n",
    "all_questions = pd.read_csv(\"all_questions.csv\", parse_dates=[\"CreationDate\"])\n",
    "\n",
    "all_questions.head()"
   ]
  },
  {
   "cell_type": "code",
   "execution_count": 23,
   "metadata": {
    "collapsed": true
   },
   "outputs": [],
   "source": [
    "# clean the Tags column by Removing brackets from Tags columns\n",
    "all_questions['Tags'] = all_questions['Tags'].str.replace('><', ',').str.replace('<', '').str.replace('>', '')\n",
    "\n",
    "# split the Tags column into list\n",
    "all_questions['Tags'] = all_questions['Tags'].str.split(',')"
   ]
  },
  {
   "cell_type": "code",
   "execution_count": 24,
   "metadata": {
    "collapsed": false
   },
   "outputs": [
    {
     "data": {
      "text/html": [
       "<div>\n",
       "<style scoped>\n",
       "    .dataframe tbody tr th:only-of-type {\n",
       "        vertical-align: middle;\n",
       "    }\n",
       "\n",
       "    .dataframe tbody tr th {\n",
       "        vertical-align: top;\n",
       "    }\n",
       "\n",
       "    .dataframe thead th {\n",
       "        text-align: right;\n",
       "    }\n",
       "</style>\n",
       "<table border=\"1\" class=\"dataframe\">\n",
       "  <thead>\n",
       "    <tr style=\"text-align: right;\">\n",
       "      <th></th>\n",
       "      <th>Id</th>\n",
       "      <th>CreationDate</th>\n",
       "      <th>Tags</th>\n",
       "    </tr>\n",
       "  </thead>\n",
       "  <tbody>\n",
       "    <tr>\n",
       "      <th>0</th>\n",
       "      <td>45416</td>\n",
       "      <td>2019-02-12 00:36:29</td>\n",
       "      <td>[python, keras, tensorflow, cnn, probability]</td>\n",
       "    </tr>\n",
       "    <tr>\n",
       "      <th>1</th>\n",
       "      <td>45418</td>\n",
       "      <td>2019-02-12 00:50:39</td>\n",
       "      <td>[neural-network]</td>\n",
       "    </tr>\n",
       "    <tr>\n",
       "      <th>2</th>\n",
       "      <td>45422</td>\n",
       "      <td>2019-02-12 04:40:51</td>\n",
       "      <td>[python, ibm-watson, chatbot]</td>\n",
       "    </tr>\n",
       "    <tr>\n",
       "      <th>3</th>\n",
       "      <td>45426</td>\n",
       "      <td>2019-02-12 04:51:49</td>\n",
       "      <td>[keras]</td>\n",
       "    </tr>\n",
       "    <tr>\n",
       "      <th>4</th>\n",
       "      <td>45427</td>\n",
       "      <td>2019-02-12 05:08:24</td>\n",
       "      <td>[r, predictive-modeling, machine-learning-mode...</td>\n",
       "    </tr>\n",
       "  </tbody>\n",
       "</table>\n",
       "</div>"
      ],
      "text/plain": [
       "      Id        CreationDate  \\\n",
       "0  45416 2019-02-12 00:36:29   \n",
       "1  45418 2019-02-12 00:50:39   \n",
       "2  45422 2019-02-12 04:40:51   \n",
       "3  45426 2019-02-12 04:51:49   \n",
       "4  45427 2019-02-12 05:08:24   \n",
       "\n",
       "                                                Tags  \n",
       "0      [python, keras, tensorflow, cnn, probability]  \n",
       "1                                   [neural-network]  \n",
       "2                      [python, ibm-watson, chatbot]  \n",
       "3                                            [keras]  \n",
       "4  [r, predictive-modeling, machine-learning-mode...  "
      ]
     },
     "execution_count": 24,
     "metadata": {},
     "output_type": "execute_result"
    }
   ],
   "source": [
    "all_questions.head()"
   ]
  },
  {
   "cell_type": "code",
   "execution_count": 25,
   "metadata": {
    "collapsed": false
   },
   "outputs": [
    {
     "data": {
      "text/plain": [
       "Timestamp('2020-01-19 03:01:03')"
      ]
     },
     "execution_count": 25,
     "metadata": {},
     "output_type": "execute_result"
    }
   ],
   "source": [
    " # get the latest date in the list\n",
    "all_questions['CreationDate'].max()"
   ]
  },
  {
   "cell_type": "code",
   "execution_count": 26,
   "metadata": {
    "collapsed": false
   },
   "outputs": [
    {
     "data": {
      "text/plain": [
       "Timestamp('2014-05-13 23:58:30')"
      ]
     },
     "execution_count": 26,
     "metadata": {},
     "output_type": "execute_result"
    }
   ],
   "source": [
    " # get the oldest date in the list\n",
    "all_questions['CreationDate'].min()"
   ]
  },
  {
   "cell_type": "markdown",
   "metadata": {},
   "source": [
    "Based on the previous part of the project, we will take some of the most popular tags that we believe are associated with deep learning to see how many times these tags show up in questions. This will give us a definition of deep learning that we can use to analyze the use of tags in specific time periods.\n"
   ]
  },
  {
   "cell_type": "code",
   "execution_count": 27,
   "metadata": {
    "collapsed": true
   },
   "outputs": [],
   "source": [
    "# Create a list of tags relating to deep-learning topics\n",
    "deep_learning = [\"python\",\n",
    "             \"machine-learning\",\n",
    "             \"keras\",\n",
    "             \"deep-learning\",\n",
    "             \"neural-network\",\n",
    "             \"scikit-learn\",\n",
    "             \"tensorflow\",\n",
    "             \"classification\"\n",
    "            ]\n",
    "\n",
    "# Define a function to check for matches to deep_learning\n",
    "def deep_tags(row):\n",
    "    tags = ','.join(row['Tags'])\n",
    "    for tag in deep_learning:\n",
    "        if tag in tags:\n",
    "            return \"deep-learning\"\n",
    "\n",
    "    return \"Other\"\n",
    "\n",
    "# Apply the  function to create a new column\n",
    "all_questions['Question_Category'] = all_questions.apply(deep_tags, axis=1)"
   ]
  },
  {
   "cell_type": "code",
   "execution_count": 28,
   "metadata": {
    "collapsed": false
   },
   "outputs": [
    {
     "data": {
      "text/html": [
       "<div>\n",
       "<style scoped>\n",
       "    .dataframe tbody tr th:only-of-type {\n",
       "        vertical-align: middle;\n",
       "    }\n",
       "\n",
       "    .dataframe tbody tr th {\n",
       "        vertical-align: top;\n",
       "    }\n",
       "\n",
       "    .dataframe thead th {\n",
       "        text-align: right;\n",
       "    }\n",
       "</style>\n",
       "<table border=\"1\" class=\"dataframe\">\n",
       "  <thead>\n",
       "    <tr style=\"text-align: right;\">\n",
       "      <th></th>\n",
       "      <th>Id</th>\n",
       "      <th>CreationDate</th>\n",
       "      <th>Tags</th>\n",
       "      <th>Question_Category</th>\n",
       "    </tr>\n",
       "  </thead>\n",
       "  <tbody>\n",
       "    <tr>\n",
       "      <th>0</th>\n",
       "      <td>45416</td>\n",
       "      <td>2019-02-12 00:36:29</td>\n",
       "      <td>[python, keras, tensorflow, cnn, probability]</td>\n",
       "      <td>deep-learning</td>\n",
       "    </tr>\n",
       "    <tr>\n",
       "      <th>1</th>\n",
       "      <td>45418</td>\n",
       "      <td>2019-02-12 00:50:39</td>\n",
       "      <td>[neural-network]</td>\n",
       "      <td>deep-learning</td>\n",
       "    </tr>\n",
       "    <tr>\n",
       "      <th>2</th>\n",
       "      <td>45422</td>\n",
       "      <td>2019-02-12 04:40:51</td>\n",
       "      <td>[python, ibm-watson, chatbot]</td>\n",
       "      <td>deep-learning</td>\n",
       "    </tr>\n",
       "    <tr>\n",
       "      <th>3</th>\n",
       "      <td>45426</td>\n",
       "      <td>2019-02-12 04:51:49</td>\n",
       "      <td>[keras]</td>\n",
       "      <td>deep-learning</td>\n",
       "    </tr>\n",
       "    <tr>\n",
       "      <th>4</th>\n",
       "      <td>45427</td>\n",
       "      <td>2019-02-12 05:08:24</td>\n",
       "      <td>[r, predictive-modeling, machine-learning-mode...</td>\n",
       "      <td>deep-learning</td>\n",
       "    </tr>\n",
       "    <tr>\n",
       "      <th>5</th>\n",
       "      <td>45428</td>\n",
       "      <td>2019-02-12 05:43:18</td>\n",
       "      <td>[cnn]</td>\n",
       "      <td>Other</td>\n",
       "    </tr>\n",
       "    <tr>\n",
       "      <th>6</th>\n",
       "      <td>45430</td>\n",
       "      <td>2019-02-12 06:20:30</td>\n",
       "      <td>[machine-learning, learning]</td>\n",
       "      <td>deep-learning</td>\n",
       "    </tr>\n",
       "    <tr>\n",
       "      <th>7</th>\n",
       "      <td>45431</td>\n",
       "      <td>2019-02-12 07:26:56</td>\n",
       "      <td>[machine-learning]</td>\n",
       "      <td>deep-learning</td>\n",
       "    </tr>\n",
       "    <tr>\n",
       "      <th>8</th>\n",
       "      <td>45433</td>\n",
       "      <td>2019-02-12 08:56:23</td>\n",
       "      <td>[python, keras, tensorflow, lstm]</td>\n",
       "      <td>deep-learning</td>\n",
       "    </tr>\n",
       "    <tr>\n",
       "      <th>9</th>\n",
       "      <td>45434</td>\n",
       "      <td>2019-02-12 09:09:01</td>\n",
       "      <td>[neural-network, feature-selection, mlp]</td>\n",
       "      <td>deep-learning</td>\n",
       "    </tr>\n",
       "  </tbody>\n",
       "</table>\n",
       "</div>"
      ],
      "text/plain": [
       "      Id        CreationDate  \\\n",
       "0  45416 2019-02-12 00:36:29   \n",
       "1  45418 2019-02-12 00:50:39   \n",
       "2  45422 2019-02-12 04:40:51   \n",
       "3  45426 2019-02-12 04:51:49   \n",
       "4  45427 2019-02-12 05:08:24   \n",
       "5  45428 2019-02-12 05:43:18   \n",
       "6  45430 2019-02-12 06:20:30   \n",
       "7  45431 2019-02-12 07:26:56   \n",
       "8  45433 2019-02-12 08:56:23   \n",
       "9  45434 2019-02-12 09:09:01   \n",
       "\n",
       "                                                Tags Question_Category  \n",
       "0      [python, keras, tensorflow, cnn, probability]     deep-learning  \n",
       "1                                   [neural-network]     deep-learning  \n",
       "2                      [python, ibm-watson, chatbot]     deep-learning  \n",
       "3                                            [keras]     deep-learning  \n",
       "4  [r, predictive-modeling, machine-learning-mode...     deep-learning  \n",
       "5                                              [cnn]             Other  \n",
       "6                       [machine-learning, learning]     deep-learning  \n",
       "7                                 [machine-learning]     deep-learning  \n",
       "8                  [python, keras, tensorflow, lstm]     deep-learning  \n",
       "9           [neural-network, feature-selection, mlp]     deep-learning  "
      ]
     },
     "execution_count": 28,
     "metadata": {},
     "output_type": "execute_result"
    }
   ],
   "source": [
    "all_questions.head(10)"
   ]
  },
  {
   "cell_type": "code",
   "execution_count": 29,
   "metadata": {
    "collapsed": true
   },
   "outputs": [],
   "source": [
    "# Using the month timeframe to track interest in deep learning\n",
    "# How many times in a month were tags related to deep learning used ?\n",
    "all_questions['Creation_Month'] = all_questions['CreationDate'].dt.strftime('%Y%m')\n",
    "all_questions['Creation_Month'] = pd.to_datetime(all_questions['Creation_Month'], format='%Y%m')"
   ]
  },
  {
   "cell_type": "code",
   "execution_count": 30,
   "metadata": {
    "collapsed": false
   },
   "outputs": [
    {
     "data": {
      "text/plain": [
       "deep-learning    14527\n",
       "Other             7049\n",
       "Name: Question_Category, dtype: int64"
      ]
     },
     "execution_count": 30,
     "metadata": {},
     "output_type": "execute_result"
    }
   ],
   "source": [
    "# Count how many deep learning questions are asked all together.\n",
    "all_questions['Question_Category'].value_counts()"
   ]
  },
  {
   "cell_type": "code",
   "execution_count": 31,
   "metadata": {
    "collapsed": true
   },
   "outputs": [],
   "source": [
    "# Count how many deep learning questions are asked in a month.\n",
    "grouped = all_questions.groupby(['Creation_Month', 'Question_Category']).size().reset_index(name='Count')\n",
    "\n",
    "# pivot the table to have columns for each question type\n",
    "pv_table = grouped.pivot(index='Creation_Month', columns='Question_Category', values='Count')"
   ]
  },
  {
   "cell_type": "code",
   "execution_count": 32,
   "metadata": {
    "collapsed": false
   },
   "outputs": [
    {
     "data": {
      "text/html": [
       "<div>\n",
       "<style scoped>\n",
       "    .dataframe tbody tr th:only-of-type {\n",
       "        vertical-align: middle;\n",
       "    }\n",
       "\n",
       "    .dataframe tbody tr th {\n",
       "        vertical-align: top;\n",
       "    }\n",
       "\n",
       "    .dataframe thead th {\n",
       "        text-align: right;\n",
       "    }\n",
       "</style>\n",
       "<table border=\"1\" class=\"dataframe\">\n",
       "  <thead>\n",
       "    <tr style=\"text-align: right;\">\n",
       "      <th>Question_Category</th>\n",
       "      <th>Other</th>\n",
       "      <th>deep-learning</th>\n",
       "    </tr>\n",
       "    <tr>\n",
       "      <th>Creation_Month</th>\n",
       "      <th></th>\n",
       "      <th></th>\n",
       "    </tr>\n",
       "  </thead>\n",
       "  <tbody>\n",
       "    <tr>\n",
       "      <th>2014-05-01</th>\n",
       "      <td>44</td>\n",
       "      <td>14</td>\n",
       "    </tr>\n",
       "    <tr>\n",
       "      <th>2014-06-01</th>\n",
       "      <td>57</td>\n",
       "      <td>42</td>\n",
       "    </tr>\n",
       "    <tr>\n",
       "      <th>2014-07-01</th>\n",
       "      <td>37</td>\n",
       "      <td>39</td>\n",
       "    </tr>\n",
       "    <tr>\n",
       "      <th>2014-08-01</th>\n",
       "      <td>36</td>\n",
       "      <td>29</td>\n",
       "    </tr>\n",
       "    <tr>\n",
       "      <th>2014-09-01</th>\n",
       "      <td>25</td>\n",
       "      <td>23</td>\n",
       "    </tr>\n",
       "  </tbody>\n",
       "</table>\n",
       "</div>"
      ],
      "text/plain": [
       "Question_Category  Other  deep-learning\n",
       "Creation_Month                         \n",
       "2014-05-01            44             14\n",
       "2014-06-01            57             42\n",
       "2014-07-01            37             39\n",
       "2014-08-01            36             29\n",
       "2014-09-01            25             23"
      ]
     },
     "execution_count": 32,
     "metadata": {},
     "output_type": "execute_result"
    }
   ],
   "source": [
    "pv_table.head()"
   ]
  },
  {
   "cell_type": "code",
   "execution_count": 33,
   "metadata": {
    "collapsed": false
   },
   "outputs": [
    {
     "data": {
      "image/png": "[encoded data removed]",
      "text/plain": [
       "<matplotlib.figure.Figure at 0x7f67389a6dd8>"
      ]
     },
     "metadata": {},
     "output_type": "display_data"
    }
   ],
   "source": [
    "# plot deep learning questions count across each month\n",
    "ax = pv_table.plot(kind='line', figsize=(16,8))\n",
    "ax.set_xlabel('Date')\n",
    "ax.set_ylabel('Number of Questions')\n",
    "ax.set_title('Question Category')\n",
    "\n",
    "# set x ticks for every other month\n",
    "x_ticks = pv_table.index[::2]\n",
    "ax.set_xticks(x_ticks)\n",
    "\n",
    "plt.show()"
   ]
  },
  {
   "cell_type": "markdown",
   "metadata": {},
   "source": [
    "The data clearly shows that people have been asking questions about topics related to deep learning for several years and it seems to be the most adequate  subject to write about. "
   ]
  }
 ],
 "metadata": {
  "kernelspec": {
   "display_name": "Python 3",
   "language": "python",
   "name": "python3"
  },
  "language_info": {
   "codemirror_mode": {
    "name": "ipython",
    "version": 3
   },
   "file_extension": ".py",
   "mimetype": "text/x-python",
   "name": "python",
   "nbconvert_exporter": "python",
   "pygments_lexer": "ipython3",
   "version": "3.4.3"
  }
 },
 "nbformat": 4,
 "nbformat_minor": 2
}
